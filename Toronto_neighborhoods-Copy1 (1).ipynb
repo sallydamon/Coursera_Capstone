{
 "cells": [
  {
   "cell_type": "markdown",
   "metadata": {},
   "source": [
    "# Toronto Neighborhoods\n",
    "\n",
    "Notebook to retrieve the list of Toronto neighborhoods from the Toronto postal codes wikipedia page and clean the data, then add geospatial data"
   ]
  },
  {
   "cell_type": "code",
   "execution_count": 2,
   "metadata": {},
   "outputs": [],
   "source": [
    "#import all dependencies\n",
    "import pandas as pd\n",
    "import numpy as np \n",
    "import urllib.request\n",
    "from bs4 import BeautifulSoup"
   ]
  },
  {
   "cell_type": "markdown",
   "metadata": {},
   "source": [
    "### Obtain Data via BeautifulSoup\n",
    "Create a soup object from the wikipedia page and initialize the a dataframe. Loop through the content of the wiki table and save each row to the dataframe."
   ]
  },
  {
   "cell_type": "code",
   "execution_count": 3,
   "metadata": {},
   "outputs": [],
   "source": [
    "wiki_url = 'https://en.wikipedia.org/wiki/List_of_postal_codes_of_Canada:_M'\n",
    "page = urllib.request.urlopen(wiki_url)\n",
    "soup = BeautifulSoup(page)"
   ]
  },
  {
   "cell_type": "code",
   "execution_count": 16,
   "metadata": {},
   "outputs": [],
   "source": [
    "#find the table on the page, between the <tbody> tags then find the content of the table\n",
    "table = soup.find('tbody')\n",
    "content = table.find_all('tr')\n",
    "\n",
    "#initialize a dataframe with the requisite column names, plus an index column\n",
    "col_names = ['Index','PostalCode', 'Borough', 'Neighborhood']\n",
    "neighborhoods = pd.DataFrame(columns = col_names)\n",
    "\n",
    "#loop through the content's text\n",
    "for i in range(0,len(content)):\n",
    "    x = content[i].get_text().split('\\n')\n",
    "    col_names = ['Index','PostalCode', 'Borough', 'Neighborhood','col5']\n",
    "    df = pd.DataFrame(np.array(x).reshape(-1,len(x)),columns = col_names)\n",
    "    df['Index'] = i - 1\n",
    "    df.drop('col5', axis = 1, inplace = True)\n",
    "    neighborhoods = neighborhoods.append(df)\n",
    "\n",
    "#clean up the resulting df\n",
    "neighborhoods.set_index('Index', inplace = True)\n",
    "neighborhoods.drop(-1, axis = 0, inplace = True)"
   ]
  },
  {
   "cell_type": "markdown",
   "metadata": {},
   "source": [
    "### Drop Unassigned and Roll Up by Code\n",
    "Drop any rows with unassigned boroughs, then fill in unassigned neighborhoods with the borough name. Group the dataframe by postal code, rolling up neighborhoods with the same code."
   ]
  },
  {
   "cell_type": "code",
   "execution_count": 17,
   "metadata": {},
   "outputs": [],
   "source": [
    "#remove unassigned boroughs\n",
    "neighborhoods = neighborhoods[neighborhoods['Borough']!='Not assigned']\n",
    "\n",
    "#loop through the df to set the neighborhood = borough when neighborhood is unassigned\n",
    "for i in range(0,len(neighborhoods)):\n",
    "    if neighborhoods.iloc[i,2] == 'Not assigned':\n",
    "        neighborhoods.iloc[i,2] = neighborhoods.iloc[i,1]\n",
    "\n",
    "#roll up by postal code\n",
    "grouped = neighborhoods.groupby(['PostalCode','Borough'])['Neighborhood'].apply(list)\n",
    "neighborhoods = pd.DataFrame(grouped)\n",
    "neighborhoods.reset_index(inplace = True)"
   ]
  },
  {
   "cell_type": "code",
   "execution_count": 18,
   "metadata": {},
   "outputs": [
    {
     "data": {
      "text/html": [
       "<div>\n",
       "<style scoped>\n",
       "    .dataframe tbody tr th:only-of-type {\n",
       "        vertical-align: middle;\n",
       "    }\n",
       "\n",
       "    .dataframe tbody tr th {\n",
       "        vertical-align: top;\n",
       "    }\n",
       "\n",
       "    .dataframe thead th {\n",
       "        text-align: right;\n",
       "    }\n",
       "</style>\n",
       "<table border=\"1\" class=\"dataframe\">\n",
       "  <thead>\n",
       "    <tr style=\"text-align: right;\">\n",
       "      <th></th>\n",
       "      <th>PostalCode</th>\n",
       "      <th>Borough</th>\n",
       "      <th>Neighborhood</th>\n",
       "    </tr>\n",
       "  </thead>\n",
       "  <tbody>\n",
       "    <tr>\n",
       "      <th>0</th>\n",
       "      <td>M1B</td>\n",
       "      <td>Scarborough</td>\n",
       "      <td>Rouge, Malvern</td>\n",
       "    </tr>\n",
       "    <tr>\n",
       "      <th>1</th>\n",
       "      <td>M1C</td>\n",
       "      <td>Scarborough</td>\n",
       "      <td>Highland Creek, Rouge Hill, Port Union</td>\n",
       "    </tr>\n",
       "    <tr>\n",
       "      <th>2</th>\n",
       "      <td>M1E</td>\n",
       "      <td>Scarborough</td>\n",
       "      <td>Guildwood, Morningside, West Hill</td>\n",
       "    </tr>\n",
       "    <tr>\n",
       "      <th>3</th>\n",
       "      <td>M1G</td>\n",
       "      <td>Scarborough</td>\n",
       "      <td>Woburn</td>\n",
       "    </tr>\n",
       "    <tr>\n",
       "      <th>4</th>\n",
       "      <td>M1H</td>\n",
       "      <td>Scarborough</td>\n",
       "      <td>Cedarbrae</td>\n",
       "    </tr>\n",
       "  </tbody>\n",
       "</table>\n",
       "</div>"
      ],
      "text/plain": [
       "  PostalCode      Borough                            Neighborhood\n",
       "0        M1B  Scarborough                          Rouge, Malvern\n",
       "1        M1C  Scarborough  Highland Creek, Rouge Hill, Port Union\n",
       "2        M1E  Scarborough       Guildwood, Morningside, West Hill\n",
       "3        M1G  Scarborough                                  Woburn\n",
       "4        M1H  Scarborough                               Cedarbrae"
      ]
     },
     "execution_count": 18,
     "metadata": {},
     "output_type": "execute_result"
    }
   ],
   "source": [
    "neighborhoods['Neighborhood'] = neighborhoods['Neighborhood'].apply(', '.join)\n",
    "neighborhoods.head(n=30)"
   ]
  },
  {
   "cell_type": "code",
   "execution_count": null,
   "metadata": {},
   "outputs": [],
   "source": [
    "neighborhoods.shape"
   ]
  }
 ],
 "metadata": {
  "kernelspec": {
   "display_name": "Python 3",
   "language": "python",
   "name": "python3"
  },
  "language_info": {
   "codemirror_mode": {
    "name": "ipython",
    "version": 3
   },
   "file_extension": ".py",
   "mimetype": "text/x-python",
   "name": "python",
   "nbconvert_exporter": "python",
   "pygments_lexer": "ipython3",
   "version": "3.6.8"
  }
 },
 "nbformat": 4,
 "nbformat_minor": 2
}
